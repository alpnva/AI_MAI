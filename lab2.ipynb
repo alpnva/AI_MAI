{
  "cells": [
    {
      "cell_type": "markdown",
      "metadata": {
        "id": "LE1FvwDEiWqa"
      },
      "source": [
        "# Лабораторная работа №2, Фундаментальные концепции ИИ\n",
        "### Глобальная оптимизация и метаэврестические алгоритмы\n",
        "#### Алапанова Эльза, М8О-109СВ-24"
      ]
    },
    {
      "cell_type": "markdown",
      "metadata": {
        "id": "bAzb8i-hiWqe"
      },
      "source": [
        "В Pygmo запрограммировать две тестовых функции и найти их оптимум 3 разными алгоритмами доступными в библиотеке и получить таблицу сравнения"
      ]
    },
    {
      "cell_type": "code",
      "execution_count": 1,
      "metadata": {
        "colab": {
          "base_uri": "https://localhost:8080/"
        },
        "id": "vwqRgT3riWqf",
        "outputId": "cf16f68f-4016-4f29-fcee-3425b92199f6"
      },
      "outputs": [
        {
          "name": "stdout",
          "output_type": "stream",
          "text": [
            "Collecting pygmo\n",
            "  Downloading pygmo-2.19.5-cp310-cp310-manylinux_2_28_x86_64.whl.metadata (978 bytes)\n",
            "Requirement already satisfied: numpy in /usr/local/lib/python3.10/dist-packages (from pygmo) (1.26.4)\n",
            "Requirement already satisfied: cloudpickle in /usr/local/lib/python3.10/dist-packages (from pygmo) (3.1.0)\n",
            "Requirement already satisfied: scipy in /usr/local/lib/python3.10/dist-packages (from pygmo) (1.13.1)\n",
            "Downloading pygmo-2.19.5-cp310-cp310-manylinux_2_28_x86_64.whl (14.7 MB)\n",
            "\u001b[2K   \u001b[90m━━━━━━━━━━━━━━━━━━━━━━━━━━━━━━━━━━━━━━━━\u001b[0m \u001b[32m14.7/14.7 MB\u001b[0m \u001b[31m31.4 MB/s\u001b[0m eta \u001b[36m0:00:00\u001b[0m\n",
            "\u001b[?25hInstalling collected packages: pygmo\n",
            "Successfully installed pygmo-2.19.5\n"
          ]
        }
      ],
      "source": [
        "!pip install pygmo"
      ]
    },
    {
      "cell_type": "code",
      "execution_count": 2,
      "metadata": {
        "id": "jXbYU26_iWqh"
      },
      "outputs": [],
      "source": [
        "import pygmo as pg\n",
        "import numpy as np\n",
        "import pandas as pd"
      ]
    },
    {
      "cell_type": "markdown",
      "metadata": {
        "id": "xSPQnDqwiiSX"
      },
      "source": [
        "Определяем первую тестовую функцию: Sphere"
      ]
    },
    {
      "cell_type": "code",
      "execution_count": 3,
      "metadata": {
        "id": "ae9-rfuLiWqi"
      },
      "outputs": [],
      "source": [
        "class Sphere:\n",
        "    def __init__(self, dim=10):\n",
        "        \"\"\"Инициализация функции Sphere с заданной размерностью.\"\"\"\n",
        "        self.dim = dim\n",
        "\n",
        "    def fitness(self, x):\n",
        "        \"\"\"Целевая функция Sphere: f(x) = sum(x_i^2).\"\"\"\n",
        "        return [sum(xi**2 for xi in x)]\n",
        "\n",
        "    def get_bounds(self):\n",
        "        \"\"\"Границы переменных: [-5.12, 5.12] для каждого измерения.\"\"\"\n",
        "        return ([-5.12] * self.dim, [5.12] * self.dim)"
      ]
    },
    {
      "cell_type": "markdown",
      "metadata": {
        "id": "LwVirBqTits3"
      },
      "source": [
        "Определяем вторую тестовую функцию: Rastrigin"
      ]
    },
    {
      "cell_type": "code",
      "execution_count": 4,
      "metadata": {
        "id": "NMfPNjNaiWqj"
      },
      "outputs": [],
      "source": [
        "class Rastrigin:\n",
        "    def __init__(self, dim=10):\n",
        "        \"\"\"Инициализация функции Rastrigin с заданной размерностью.\"\"\"\n",
        "        self.dim = dim\n",
        "\n",
        "    def fitness(self, x):\n",
        "        \"\"\"Целевая функция Rastrigin: f(x) = 10 * n + sum(x_i^2 - 10 * cos(2 * pi * x_i)).\"\"\"\n",
        "        return [10 * len(x) + sum(xi**2 - 10 * np.cos(2 * np.pi * xi) for xi in x)]\n",
        "\n",
        "    def get_bounds(self):\n",
        "        \"\"\"Границы переменных: [-5.12, 5.12] для каждого измерения.\"\"\"\n",
        "        return ([-5.12] * self.dim, [5.12] * self.dim)"
      ]
    },
    {
      "cell_type": "markdown",
      "metadata": {
        "id": "AWWEx63-iWqk"
      },
      "source": [
        "### Тестовые функции:\n",
        "\n",
        "Sphere: Простая квадратичная функция.\n",
        "\n",
        "Rastrigin: Более сложная функция с множеством локальных минимумов.\n",
        "\n",
        "### Алгоритмы:\n",
        "\n",
        "Differential Evolution (Дифференциальная эволюция).\n",
        "\n",
        "Particle Swarm Optimization (Оптимизация роя частиц).\n",
        "\n",
        "Simulated Annealing (Имитация отжига).\n",
        "\n"
      ]
    },
    {
      "cell_type": "markdown",
      "metadata": {
        "id": "goaVovf4i1w-"
      },
      "source": [
        "Определяем список алгоритмов оптимизации"
      ]
    },
    {
      "cell_type": "code",
      "execution_count": 5,
      "metadata": {
        "id": "FrFkvaatiWqk"
      },
      "outputs": [],
      "source": [
        "algorithms = [\n",
        "    (\"Differential Evolution\", pg.algorithm(pg.de(gen=100))),\n",
        "    (\"Particle Swarm Optimization\", pg.algorithm(pg.pso(gen=100))),\n",
        "    (\"Simulated Annealing\", pg.algorithm(pg.sade(gen=100))),\n",
        "]\n",
        "\n",
        "# Список тестовых функций\n",
        "functions = [Sphere(dim=10), Rastrigin(dim=10)]\n",
        "\n",
        "# Список для хранения результатов\n",
        "results = []"
      ]
    },
    {
      "cell_type": "code",
      "execution_count": 6,
      "metadata": {
        "colab": {
          "base_uri": "https://localhost:8080/"
        },
        "id": "1qOOlRYviWql",
        "outputId": "635836fa-4502-4f45-c6f5-d8f34cc7d2a7"
      },
      "outputs": [
        {
          "name": "stdout",
          "output_type": "stream",
          "text": [
            "          Function                    Algorithm  Best Fitness  \\\n",
            "0  Test Function 1       Differential Evolution     38.798467   \n",
            "1  Test Function 1  Particle Swarm Optimization     19.264279   \n",
            "2  Test Function 1          Simulated Annealing     48.314569   \n",
            "3  Test Function 2       Differential Evolution    104.204745   \n",
            "4  Test Function 2  Particle Swarm Optimization    148.950940   \n",
            "5  Test Function 2          Simulated Annealing    122.448606   \n",
            "\n",
            "                                       Best Solution  \n",
            "0  [-0.4604350206627217, -1.3794273945411146, 2.3...  \n",
            "1  [-1.689222310310253, 0.8205636201466575, -1.39...  \n",
            "2  [-3.505884111016965, 2.21659619097343, 1.61389...  \n",
            "3  [-1.0699090771694317, 3.3413682010570307, 2.90...  \n",
            "4  [-2.7190497241213136, 3.471052104654059, -2.00...  \n",
            "5  [1.5053559557494882, -1.839215392158207, -1.29...  \n"
          ]
        }
      ],
      "source": [
        "# Пробегаем по тестовым функциям и алгоритмам\n",
        "for func_idx, func in enumerate(functions):\n",
        "    # Создаем задачу оптимизации для текущей функции\n",
        "    prob = pg.problem(func)\n",
        "\n",
        "    for algo_name, algo in algorithms:\n",
        "        # Создаем начальную популяцию с 20 индивидуумами\n",
        "        pop = pg.population(prob, size=20)\n",
        "\n",
        "        # Выполняем эволюцию популяции с использованием текущего алгоритма\n",
        "        algo.evolve(pop)\n",
        "\n",
        "        # Сохраняем результаты оптимизации\n",
        "        results.append({\n",
        "            \"Function\": f\"Test Function {func_idx + 1}\",\n",
        "            \"Algorithm\": algo_name,\n",
        "            \"Best Fitness\": pop.champion_f[0],  # Лучшая найденная фитнес-значение\n",
        "            \"Best Solution\": pop.champion_x     # Координаты лучшего решения\n",
        "        })\n",
        "\n",
        "# Формируем таблицу результатов\n",
        "df_results = pd.DataFrame(results)\n",
        "\n",
        "# Печатаем таблицу результатов\n",
        "print(df_results)\n"
      ]
    },
    {
      "cell_type": "markdown",
      "metadata": {
        "id": "lWoDss-aiWqm"
      },
      "source": [
        "### Процесс оптимизации\n",
        "\n",
        "Функция Sphere - простая функция, где глобальный минимум достигается в точке x = (0, 0, ..., 0), а значение функции в этой точке равно 0.\n",
        "\n",
        "Алгоритмы:\\\n",
        "Differential Evolution (DE):\n",
        "\n",
        "- Выполняет оптимизацию через комбинацию дифференциальных мутаций и кроссовера.\n",
        "Полученное значение фитнеса: 38.798467.\n",
        "- Решение указывает на значительное отклонение от глобального минимума.\\\n",
        "\n",
        "Particle Swarm Optimization (PSO):\n",
        "\n",
        "- Ищет решение, имитируя поведение роя частиц, движущихся к лучшим найденным позициям.\n",
        "- Лучшее значение фитнеса: 19.264279, что ближе к минимуму по сравнению с DE.\\\n",
        "PSO лучше справился с задачей за 100 поколений.\\\n",
        "\n",
        "Simulated Annealing (SADE):\n",
        "\n",
        "- Метод имитирует процесс отжига, постепенно уменьшая вероятность случайных изменений.\n",
        "- Фитнес: 48.314569, что хуже, чем у DE и PSO.\\\n",
        "Вероятно, SADE недостаточно хорошо справляется с этой функцией в заданных условиях.\n",
        "\n",
        "Функция Rastrigin: содержит множество локальных минимумов, что делает задачу сложной для алгоритмов глобальной оптимизации.\\\n",
        "Алгоритмы:\\\n",
        "\n",
        "Differential Evolution (DE):\n",
        "- Найденное значение фитнеса: 104.204745.\n",
        "Несмотря на сложность функции, DE показал относительно хорошие результаты. Решение оказалось достаточно близким к глобальному минимуму.\\\n",
        "\n",
        "Particle Swarm Optimization (PSO):\n",
        "- Фитнес: 148.950940.\n",
        "- Алгоритм PSO продемонстрировал худший результат на функции Rastrigin. Вероятно, он застрял в одном из локальных минимумов.\\\n",
        "\n",
        "Simulated Annealing (SADE):\n",
        "- Фитнес: 122.448606.\n",
        "- SADE справился лучше, чем PSO, но всё ещё хуже, чем DE. Это ожидаемо для функции с множеством локальных минимумов.\n",
        "\n",
        "\n",
        "## Анализ результатов\n",
        "Функция Sphere:\\\n",
        "- Простая функция без локальных минимумов, но только PSO приблизился к оптимальному решению.\n",
        "- Simulated Annealing показал худший результат, вероятно, из-за случайных изменений, которые мешали сходимости.\\\n",
        "\n",
        "Функция Rastrigin:\n",
        "- Для этой сложной функции лучшим алгоритмом оказался Differential Evolution. Его подход на основе мутаций и кроссовера оказался эффективным.\n",
        "- PSO продемонстрировал слабую способность избегать локальных минимумов.\n",
        "- Simulated Annealing занял среднее место, что ожидаемо, учитывая стохастический характер алгоритма.\n",
        "\n",
        "\n",
        "\n",
        "## Вывод\n",
        "\n",
        "В рамках данной работы была выполнена глобальная оптимизация двух тестовых функций с использованием библиотеки PyGMO. Для каждой функции было применено три различных метаэвристических алгоритма. Результаты экспериментов обобщены в виде таблицы. Для задач с простыми функциями, такими как Sphere, рекомендуется использовать PSO, так как он показал лучшие результаты за то же число итераций.\n",
        "Для сложных функций с локальными минимумами, таких как Rastrigin, предпочтительно использовать Differential Evolution, так как он показал наилучшие результаты.\\\n",
        "Simulated Annealing менее эффективен в обоих случаях, поэтому его следует применять только для задач, где важна возможность глобального поиска при минимуме итераций."
      ]
    }
  ],
  "metadata": {
    "colab": {
      "provenance": []
    },
    "kernelspec": {
      "display_name": "Python 3",
      "language": "python",
      "name": "python3"
    },
    "language_info": {
      "codemirror_mode": {
        "name": "ipython",
        "version": 3
      },
      "file_extension": ".py",
      "mimetype": "text/x-python",
      "name": "python",
      "nbconvert_exporter": "python",
      "pygments_lexer": "ipython3",
      "version": "3.9.0"
    }
  },
  "nbformat": 4,
  "nbformat_minor": 0
}
